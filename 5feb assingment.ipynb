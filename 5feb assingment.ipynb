{
 "cells": [
  {
   "cell_type": "code",
   "execution_count": 1,
   "id": "4444b29d-00d5-4454-8078-109185220be5",
   "metadata": {},
   "outputs": [],
   "source": [
    "#Q1  Explain Class and Object with respect to Object-Oriented Programming. Give a suitable example?"
   ]
  },
  {
   "cell_type": "code",
   "execution_count": 7,
   "id": "c0871896-4325-428b-8e8d-08b3883dc8d0",
   "metadata": {},
   "outputs": [],
   "source": [
    "# Object − Objects have states and behaviors. Example: A dog has states - color, name, breed as well as behaviors – wagging the tail, barking, eating. \n",
    "# An object is an instance of a class. Class − A class can be defined as a template/blueprint that describes the behavior/state that\n",
    "# the object of its type support.\n",
    "\n",
    "#        Class\t                                                                  Object\n",
    "# Class is a logical entity.\t                                           Object is a physical entity.\n",
    "# Class can only be declared once.\t                          Object can be created many times as per requirement.\n",
    "# Example of class can be car.\t                            Objects of the class car can be BMW, Mercedes, jaguar, etc.\n"
   ]
  },
  {
   "cell_type": "code",
   "execution_count": 8,
   "id": "5597d5d9-43e3-40c1-a329-99886b047673",
   "metadata": {},
   "outputs": [],
   "source": [
    "class car:\n",
    "        \n",
    "        def __init__(self , company , model , speed):\n",
    "            self.company = company\n",
    "            self.model = model\n",
    "            self.speed = speed\n",
    "        def return_car_detail(self):\n",
    "            return self.company , self.model , self.speed\n"
   ]
  },
  {
   "cell_type": "code",
   "execution_count": 11,
   "id": "f3642aae-13ab-4419-9a46-f18dad1e038f",
   "metadata": {},
   "outputs": [],
   "source": [
    "car1 = car(\"BMW\" , \"250ADH\" ,250)"
   ]
  },
  {
   "cell_type": "code",
   "execution_count": 12,
   "id": "05d5655a-1485-4cfa-82d2-f4ee4485f9ff",
   "metadata": {},
   "outputs": [
    {
     "data": {
      "text/plain": [
       "('BMW', '250ADH', 250)"
      ]
     },
     "execution_count": 12,
     "metadata": {},
     "output_type": "execute_result"
    }
   ],
   "source": [
    "car1.return_car_detail()"
   ]
  },
  {
   "cell_type": "code",
   "execution_count": 15,
   "id": "ed6e91ad-542a-4f5f-b7e8-415ddb863e86",
   "metadata": {},
   "outputs": [
    {
     "data": {
      "text/plain": [
       "'BMW'"
      ]
     },
     "execution_count": 15,
     "metadata": {},
     "output_type": "execute_result"
    }
   ],
   "source": [
    "car1.company"
   ]
  },
  {
   "cell_type": "code",
   "execution_count": 16,
   "id": "b82f8c8d-0750-41ab-ac29-d8cb8168917f",
   "metadata": {},
   "outputs": [],
   "source": [
    "#Q2. Name the four pillars of OOPs"
   ]
  },
  {
   "cell_type": "code",
   "execution_count": 17,
   "id": "133be002-ccdc-4cc2-9818-75b7c337c740",
   "metadata": {},
   "outputs": [],
   "source": [
    "# The four pillars of Object-Oriented Programming (OOP) are:\n",
    "\n",
    "# 1 Encapsulation: Encapsulation is the process of wrapping data and methods (functions) that operate on the data within a single unit (class).  \n",
    "# It provides data hiding, which means that the internal workings of an object are hidden from the outside world. This helps to reduce complexity, \n",
    "# increase security, and improve maintainability.\n",
    "\n",
    "# 2 Inheritance: Inheritance is the mechanism by which one class can derive properties and characteristics from another class. \n",
    "# It allows us to create new classes based on existing ones, thus enabling code reuse and increasing modularity.\n",
    "\n",
    "# 3 Polymorphism: Polymorphism is the ability of an object to take on many forms. \n",
    "# It allows us to use a single interface to represent different types of objects. T\n",
    "# his reduces complexity, makes code more flexible and reusable, and improves maintainability.\n",
    "\n",
    "# 4 Abstraction: Abstraction is the process of simplifying complex real-world problems by modeling them using classes and objects. \n",
    "# It involves identifying the essential features of a problem and ignoring the rest.\n",
    "# It helps to manage complexity, reduce duplication of code, and make code more modular and extensible."
   ]
  },
  {
   "cell_type": "code",
   "execution_count": 18,
   "id": "5635ce9d-3335-44a4-8774-4974e75f1dd9",
   "metadata": {},
   "outputs": [],
   "source": [
    "#Q3. Explain why the __init__() function is used. Give a suitable example?"
   ]
  },
  {
   "cell_type": "code",
   "execution_count": 19,
   "id": "dc73542c-5e5f-48a6-91c8-bd630113dfa1",
   "metadata": {},
   "outputs": [],
   "source": [
    "# __init__ is one of the reserved methods in Python. In object oriented programming, it is known as a constructor. \n",
    "# The __init__ method can be called when an object is created from the class, and access is required to initialize the attributes of the class."
   ]
  },
  {
   "cell_type": "code",
   "execution_count": 21,
   "id": "84faa7cb-765c-4b8b-9dd6-9c0457d82292",
   "metadata": {},
   "outputs": [],
   "source": [
    "# Here's an example:\n",
    "\n",
    "class Car:\n",
    "    def __init__(self, make, model, year, color):\n",
    "        self.make = make\n",
    "        self.model = model\n",
    "        self.year = year\n",
    "        self.color = color\n",
    "        \n",
    "# #In this example, we have created a Car class that has four attributes - make, model, year, and color. \n",
    "# The __init__() method takes in these four attributes as parameters and assigns them to the corresponding instance variables using the self parameter.\n",
    "\n",
    "# Now, when we create an instance of the Car class, we can pass in the values for these attributes, and \n",
    "# the __init__() method will initialize them for us:\n",
    "        "
   ]
  },
  {
   "cell_type": "code",
   "execution_count": 22,
   "id": "a3cc1e64-bc37-4b36-be80-98fcf218982c",
   "metadata": {},
   "outputs": [],
   "source": [
    "my_car = Car(\"Toyota\", \"Camry\", 2022, \"Silver\")"
   ]
  },
  {
   "cell_type": "code",
   "execution_count": 23,
   "id": "dc80ba6a-f425-4b0a-8fff-ff38098fb626",
   "metadata": {},
   "outputs": [
    {
     "data": {
      "text/plain": [
       "'Camry'"
      ]
     },
     "execution_count": 23,
     "metadata": {},
     "output_type": "execute_result"
    }
   ],
   "source": [
    "my_car.model"
   ]
  },
  {
   "cell_type": "code",
   "execution_count": 24,
   "id": "33e9c957-eff8-4124-8a6f-c3b95dd17982",
   "metadata": {},
   "outputs": [],
   "source": [
    "# In this case, the my_car object has been created with the make attribute set to \"Toyota\", the model attribute set to \"Camry\", \n",
    "# the year attribute set to 2022, and the color attribute set to \"Silver\".\n",
    "\n",
    "# Without the __init__() method, we would have to manually set each of these attributes for every instance of the Car class we create,\n",
    "# which would be tedious and error-prone. The __init__() method makes it easy to initialize the attributes of an object when it is created, \n",
    "# making our code cleaner and more maintainable."
   ]
  },
  {
   "cell_type": "code",
   "execution_count": 25,
   "id": "ee0b39cf-e8fa-45cf-b362-c8a22cf37fc7",
   "metadata": {},
   "outputs": [],
   "source": [
    "#Q4. Why self is used in OOPs?"
   ]
  },
  {
   "cell_type": "code",
   "execution_count": 26,
   "id": "683bac29-befa-4086-b92a-1e971c375fd3",
   "metadata": {},
   "outputs": [],
   "source": [
    "# In object-oriented programming (OOP), \"self\" refers to the current instance of the class. When a class is defined, \n",
    "# it serves as a blueprint for creating objects. Each object that is created from the class has its own unique set of attributes and methods.\n",
    "\n",
    "# When a method is called on an object, the object itself is passed as the first parameter to the method. \n",
    "# This parameter is traditionally named \"self\" and allows the method to access the object's attributes and methods. \n",
    "# By using \"self\" in this way, we can avoid hard-coding specific object names into our code and make our code more modular and reusable.\n"
   ]
  },
  {
   "cell_type": "code",
   "execution_count": 27,
   "id": "48208f0d-c781-4e79-bfe4-694594b3cd1f",
   "metadata": {},
   "outputs": [],
   "source": [
    "#Q5. What is inheritance? Give an example for each type of inheritance?"
   ]
  },
  {
   "cell_type": "code",
   "execution_count": null,
   "id": "76f76475-daab-4e2d-8010-7edcd11e480f",
   "metadata": {},
   "outputs": [],
   "source": [
    "# Inheritance is a fundamental concept in object-oriented programming that allows classes to inherit properties and behaviors from their parent classes.\n",
    "# Inheritance helps to reduce code duplication, improve code organization and make it easier to maintain and extend software.\n",
    "\n",
    "# There are several types of inheritance in object-oriented programming:\n",
    "\n",
    "# Single inheritance: A class can inherit properties and behaviors from a single parent class.\n",
    "# Example: A Car class can inherit properties and behaviors from a Vehicle class.\n",
    "\n",
    "# Multiple inheritance: A class can inherit properties and behaviors from multiple parent classes.\n",
    "# Example: A HybridCar class can inherit properties and behaviors from both an ElectricVehicle class and a GasVehicle class.\n",
    "\n",
    "# Multi-level inheritance: A class can inherit properties and behaviors from a parent class, which in turn inherits properties and behaviors from \n",
    "# its parent class.\n",
    "# Example: A SportsCar class can inherit properties and behaviors from a Car class, which in turn inherits properties and behaviors from a Vehicle class.\n",
    "\n",
    "# Hierarchical inheritance: Multiple classes can inherit properties and behaviors from a single parent class.\n",
    "# Example: A Sedan class and a SUV class can both inherit properties and behaviors from a Car class.\n",
    "\n",
    "# Hybrid inheritance: This is a combination of two or more types of inheritance.\n",
    "# Example: A SelfDrivingCar class can inherit properties and behaviors from a HybridCar class (multiple inheritance) and\n",
    "# a NavigationSystem class (single inheritance).\n",
    "\n",
    "\n",
    "\n"
   ]
  }
 ],
 "metadata": {
  "kernelspec": {
   "display_name": "Python 3 (ipykernel)",
   "language": "python",
   "name": "python3"
  },
  "language_info": {
   "codemirror_mode": {
    "name": "ipython",
    "version": 3
   },
   "file_extension": ".py",
   "mimetype": "text/x-python",
   "name": "python",
   "nbconvert_exporter": "python",
   "pygments_lexer": "ipython3",
   "version": "3.10.8"
  }
 },
 "nbformat": 4,
 "nbformat_minor": 5
}
